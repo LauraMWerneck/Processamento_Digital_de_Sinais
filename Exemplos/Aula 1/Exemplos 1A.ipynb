{
 "cells": [
  {
   "cell_type": "markdown",
   "id": "560c9e6c",
   "metadata": {},
   "source": [
    "Material de exemplos da parte 1A"
   ]
  },
  {
   "cell_type": "code",
   "execution_count": 3,
   "id": "7fbd573b",
   "metadata": {},
   "outputs": [],
   "source": [
    "import numpy as np\n",
    "\n",
    "def impseq(n0,n1,n2):\n",
    "    \n",
    "    #      Generates x(n) = delta(n-n0); n1 <= n <= n2\n",
    "    #      ----------------------------------------------\n",
    "    #      [x,n] = impseq(n0,n1,n2)\n",
    "    #     \n",
    "        \n",
    "    n=np.array(range(n1,n2+1))\n",
    "    x = n-n0\n",
    "    for i in range(len(x)):\n",
    "        if x[i]!=0: x[i]=0\n",
    "        else: x[i]=1\n",
    "    #x = (n-n0) == 0\n",
    "    return [x,n]\n",
    "\n",
    "def stepseq(n0,n1,n2):\n",
    "    #     Generates x(n) = u(n-n0); n1 <= n <= n2\n",
    "    #     ------------------------------------------\n",
    "    #     [x,n] = stepseq(n0,n1,n2)\n",
    "    #\n",
    "    n=np.arange(n1,n2+1)\n",
    "    x = n-n0\n",
    "    for i in range(len(x)):\n",
    "        if x[i]<0: x[i]=0\n",
    "        else: x[i]=1\n",
    "    #x = [(n-n0) >= 0]\n",
    "    return [x,n]\n",
    "\n",
    "def  sigadd(x1,n1,x2,n2):\n",
    "    # % implements y(n) = x1(n)+x2(n)\n",
    "    # % -----------------------------\n",
    "    # % [y,n] = sigadd(x1,n1,x2,n2)\n",
    "    # % y = sum sequence over n, which includes n1 and n2\n",
    "    # % x1 = first sequence over n1\n",
    "    # % x2 = second sequence over n2 (n2 can be different from n1)\n",
    "    # %\n",
    "    n = np.arange(min(n1.min(0),n2.min(0)),max(n1.max(0),n2.max(0))+1) # duration of y(n)\n",
    "    y1 = np.zeros((1,len(n)))  #initialization\n",
    "    y1=y1[0,:]\n",
    "    y2 = y1.copy()\n",
    "    y1[np.nonzero(np.logical_and((n>=n1.min(0)),(n<=n1.max(0)))==1)]=x1.copy()\n",
    "    y2[np.nonzero(np.logical_and((n>=n2.min(0)),(n<=n2.max(0)))==1)]=x2.copy()\n",
    "    y = y1+y2;\n",
    "    return [y,n]\n",
    "\n",
    "\n",
    "def  sigmult(x1,n1,x2,n2):\n",
    "    # % implements y(n) = x1(n)*x2(n)\n",
    "    # % -----------------------------\n",
    "    # % [y,n] = sigmult(x1,n1,x2,n2)\n",
    "    # % y = product sequence over n, which includes n1 and n2\n",
    "    # % x1 = first sequence over n1\n",
    "    # %\n",
    "    n = np.arange(min(n1.min(0),n2.min(0)),max(n1.max(0),n2.max(0))+1) # duration of y(n)\n",
    "    y1 = np.zeros((1,len(n)))  #initialization\n",
    "    y1=y1[0,:]\n",
    "    y2 = y1.copy()\n",
    "    y1[np.nonzero(np.logical_and((n>=n1.min(0)),(n<=n1.max(0)))==1)]=x1.copy()\n",
    "    y2[np.nonzero(np.logical_and((n>=n2.min(0)),(n<=n2.max(0)))==1)]=x2.copy()\n",
    "    y = y1*y2\n",
    "    return [y,n]\n",
    "\n",
    "\n",
    "def sigshift(x,m,k):\n",
    "    # % implements y(n) = x(n-k)\n",
    "    # % -------------------------\n",
    "    # % [y,n] = sigshift(x,m,k)\n",
    "    # %\n",
    "    n = m+k\n",
    "    y = x.copy()\n",
    "    return [y,n]\n",
    "\n",
    "\n",
    "def sigfold(x,n):\n",
    "    # % implements y(n) = x(-n)\n",
    "    # % -----------------------\n",
    "    # % [y,n] = sigfold(x,n)\n",
    "    # %\n",
    "    y = np.flip(x)\n",
    "    n = -np.flip(n)\n",
    "    return [y,n]\n",
    "\n",
    "def conv_m(x,nx,h,nh):\n",
    "    # Modified convolution routine for signal processing\n",
    "    # --------------------------------------------------\n",
    "    # [y,ny] = conv_m(x,nx,h,nh)\n",
    "    # [y,ny] = convolution result\n",
    "    # [x,nx] = first signal\n",
    "    # [h,nh] = second signal\n",
    "    # \n",
    "    nyb = nx[0]+nh[0]\n",
    "    nye = nx[len(x)-1] + nh[len(h)-1]\n",
    "    ny = np.arange(nyb,nye+1)\n",
    "    y = np.convolve(x,h)\n",
    "    return [y,ny]\n",
    "\n"
   ]
  },
  {
   "cell_type": "code",
   "execution_count": 5,
   "id": "3c05e5d5",
   "metadata": {},
   "outputs": [
    {
     "data": {
      "text/plain": [
       "<StemContainer object of 3 artists>"
      ]
     },
     "execution_count": 5,
     "metadata": {},
     "output_type": "execute_result"
    },
    {
     "data": {
      "image/png": "[encoded data removed]",
      "text/plain": [
       "<Figure size 432x288 with 1 Axes>"
      ]
     },
     "metadata": {
      "needs_background": "light"
     },
     "output_type": "display_data"
    },
    {
     "data": {
      "image/png": "[encoded data removed]",
      "text/plain": [
       "<Figure size 432x288 with 1 Axes>"
      ]
     },
     "metadata": {
      "needs_background": "light"
     },
     "output_type": "display_data"
    },
    {
     "data": {
      "image/png": "[encoded data removed]",
      "text/plain": [
       "<Figure size 432x288 with 1 Axes>"
      ]
     },
     "metadata": {
      "needs_background": "light"
     },
     "output_type": "display_data"
    },
    {
     "data": {
      "image/png": "[encoded data removed]",
      "text/plain": [
       "<Figure size 432x288 with 1 Axes>"
      ]
     },
     "metadata": {
      "needs_background": "light"
     },
     "output_type": "display_data"
    }
   ],
   "source": [
    "import matplotlib.pyplot as plt\n",
    "#from fDSP import impseq,stepseq,sigadd,sigmult,sigshift,sigfold\n",
    "import numpy as np\n",
    "\n",
    "#exemplo 2.1a\n",
    "[x1,n1] = impseq(-2,-5,5) \n",
    "[x2,n2] = impseq(4,-5,5)\n",
    "[y,n] = sigadd(2*x1,n1,-x2,n2)\n",
    "\n",
    "plt.figure()\n",
    "plt.stem(n,y)\n",
    "\n",
    "\n",
    "#exemplo 2.1b\n",
    "[x1,n1] = stepseq(0,0,20) \n",
    "[x2,n2] = stepseq(10,0,20)\n",
    "[y11,n11] = sigadd(x1,n1,-x2,n2)\n",
    "[y1,n1] = sigmult(y11,n11,n11,n11)\n",
    "\n",
    "[x1,n1] = stepseq(10,0,20) \n",
    "[x2,n2] = stepseq(20,0,20)\n",
    "[y11,n11] = sigadd(x1,n1,-x2,n2)\n",
    "y21=10*np.exp(-0.3*(n11-10))\n",
    "[y2,n2] = sigmult(y11,n11,y21,n11)\n",
    "\n",
    "[y,n] = sigadd(y1,n1,y2,n2)\n",
    "\n",
    "plt.figure()\n",
    "plt.stem(n,y)\n",
    "\n",
    "\n",
    "#exemplo 2.1c\n",
    "n=np.array(range(50))\n",
    "x1=np.cos(0.04*np.pi*n)\n",
    "x2=0.2 * np.random.randn(len(n))\n",
    "y=x1+x2\n",
    "\n",
    "plt.figure()\n",
    "plt.stem(n,y)\n",
    "\n",
    "#exemplo 2.1d\n",
    "n=np.arange(-10,10)\n",
    "x=np.array([5,4,3,2,1])\n",
    "y=np.tile(x,4)\n",
    "\n",
    "plt.figure()\n",
    "plt.stem(n,y)\n"
   ]
  },
  {
   "cell_type": "code",
   "execution_count": 6,
   "id": "2f13f73c",
   "metadata": {},
   "outputs": [
    {
     "data": {
      "text/plain": [
       "<StemContainer object of 3 artists>"
      ]
     },
     "execution_count": 6,
     "metadata": {},
     "output_type": "execute_result"
    },
    {
     "data": {
      "image/png": "[encoded data removed]",
      "text/plain": [
       "<Figure size 432x288 with 1 Axes>"
      ]
     },
     "metadata": {
      "needs_background": "light"
     },
     "output_type": "display_data"
    },
    {
     "data": {
      "image/png": "[encoded data removed]",
      "text/plain": [
       "<Figure size 432x288 with 1 Axes>"
      ]
     },
     "metadata": {
      "needs_background": "light"
     },
     "output_type": "display_data"
    }
   ],
   "source": [
    "import matplotlib.pyplot as plt\n",
    "#from fDSP import impseq,stepseq,sigadd,sigmult,sigshift,sigfold\n",
    "import numpy as np\n",
    "\n",
    "n = np.arange(-2,11)\n",
    "x = np.array(list(range(1,8))+list(range(6,0,-1)))\n",
    "\n",
    "#exemplo 2.2a\n",
    "[x11,n11] = sigshift(x,n,5)\n",
    "[x12,n12] = sigshift(x,n,-4)\n",
    "[x1,n1] = sigadd(2*x11,n11,-3*x12,n12)\n",
    "\n",
    "plt.figure()\n",
    "plt.stem(n1,x1)\n",
    "\n",
    "#exemplo 2.2b\n",
    "[x21,n21] = sigfold(x,n)\n",
    "[x21,n21] = sigshift(x21,n21,3)\n",
    "[x22,n22] = sigshift(x,n,2)\n",
    "[x22,n22] = sigmult(x,n,x22,n22)\n",
    "[x2,n2] = sigadd(x21,n21,x22,n22)\n",
    "\n",
    "plt.figure()\n",
    "plt.stem(n2,x2)\n"
   ]
  },
  {
   "cell_type": "code",
   "execution_count": 8,
   "id": "1b6c4298",
   "metadata": {},
   "outputs": [
    {
     "data": {
      "image/png": "[encoded data removed]",
      "text/plain": [
       "<Figure size 432x288 with 4 Axes>"
      ]
     },
     "metadata": {
      "needs_background": "light"
     },
     "output_type": "display_data"
    },
    {
     "data": {
      "image/png": "[encoded data removed]",
      "text/plain": [
       "<Figure size 432x288 with 4 Axes>"
      ]
     },
     "metadata": {
      "needs_background": "light"
     },
     "output_type": "display_data"
    }
   ],
   "source": [
    "import matplotlib.pyplot as plt\n",
    "#from fDSP import impseq,stepseq,sigadd,sigmult,sigshift,sigfold\n",
    "import numpy as np\n",
    "\n",
    "\n",
    "#exemplo 2.3\n",
    "\n",
    "n = np.arange(-10,11)\n",
    "alpha = -0.1+0.3j\n",
    "x = np.exp(alpha*n)\n",
    "\n",
    "fig, axs = plt.subplots(nrows=2, ncols=2)\n",
    "axs[0, 0].set_title(\"parte real\")\n",
    "axs[0, 0].stem(n,np.real(x))\n",
    "axs[0, 0].set_xlabel(\"n\")\n",
    "\n",
    "axs[0, 1].set_title(\"parte imaginaria\")\n",
    "axs[0, 1].stem(n,np.imag(x))\n",
    "axs[0, 1].set_xlabel(\"n\")\n",
    "\n",
    "axs[1, 0].set_title(\"parte magnitude\")\n",
    "axs[1, 0].stem(n,np.abs(x))\n",
    "axs[1, 0].set_xlabel(\"n\")\n",
    "\n",
    "axs[1, 1].set_title(\"parte fase\")\n",
    "axs[1, 1].stem(n,np.angle(x))\n",
    "axs[1, 1].set_xlabel(\"n\")\n",
    "\n",
    "fig.tight_layout()\n",
    "\n",
    "fig, axs = plt.subplots(nrows=2, ncols=2)\n",
    "axs[0, 0].set_title(\"parte real\")\n",
    "axs[0, 0].stem(n,np.real(x))\n",
    "axs[0, 0].set_xlabel(\"n\")\n",
    "\n",
    "axs[0, 1].set_title(\"parte imaginaria\")\n",
    "axs[0, 1].stem(n,np.imag(x))\n",
    "axs[0, 1].set_xlabel(\"n\")\n",
    "\n",
    "axs[1, 0].set_title(\"parte magnitude\")\n",
    "axs[1, 0].stem(n,np.abs(x))\n",
    "axs[1, 0].set_xlabel(\"n\")\n",
    "\n",
    "axs[1, 1].set_title(\"parte fase\")\n",
    "axs[1, 1].stem(n,np.angle(x))\n",
    "axs[1, 1].set_xlabel(\"n\")\n",
    "\n",
    "fig.tight_layout()\n"
   ]
  },
  {
   "cell_type": "code",
   "execution_count": null,
   "id": "e5dd4c31",
   "metadata": {},
   "outputs": [],
   "source": []
  }
 ],
 "metadata": {
  "kernelspec": {
   "display_name": "Python 3 (ipykernel)",
   "language": "python",
   "name": "python3"
  },
  "language_info": {
   "codemirror_mode": {
    "name": "ipython",
    "version": 3
   },
   "file_extension": ".py",
   "mimetype": "text/x-python",
   "name": "python",
   "nbconvert_exporter": "python",
   "pygments_lexer": "ipython3",
   "version": "3.8.8"
  }
 },
 "nbformat": 4,
 "nbformat_minor": 5
}
